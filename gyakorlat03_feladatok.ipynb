{
    "metadata": {
        "kernelspec": {
            "name": "SQL",
            "display_name": "SQL",
            "language": "sql"
        },
        "language_info": {
            "name": "sql",
            "version": ""
        },
        "extensions": {
            "azuredatastudio": {
                "version": 1,
                "views": []
            }
        }
    },
    "nbformat_minor": 2,
    "nbformat": 4,
    "cells": [
        {
            "cell_type": "markdown",
            "source": [
                "**Az első 5 feladat ismétlés (többtáblás lekérdezések) a tanulmányi adatbázisból**\n",
                "\n",
                "1. Készítsünk listát arról, hogy melyik óra melyik teremben van!\n",
                "    \n",
                "    1. Jelenítsük meg az óra azonosítóját és a terem nevét!\n",
                "    2. A listát szűrjük a 3 karakter hosszú, \\[100;199\\] zárt intervallumba eső termekre! Feltesszük, hogy a 3 karakter hosszú terem nevek csak számjegyeket tartalmaznak."
            ],
            "metadata": {
                "azdata_cell_guid": "77f2d5b3-38e9-41cc-893f-f5afd02b97ef"
            },
            "attachments": {}
        },
        {
            "cell_type": "code",
            "source": [
                "SELECT o.ora_id, t.terem\r\n",
                "FROM Orak o JOIN Termek t ON o.terem=t.tkód\r\n",
                "WHERE LEN(t.terem)=3 AND t.terem BETWEEN 100 AND 199"
            ],
            "metadata": {
                "azdata_cell_guid": "bd3cef1a-4e6e-4ece-9dc3-aaa9d2b5d66d",
                "language": "sql",
                "tags": []
            },
            "outputs": [
                {
                    "output_type": "display_data",
                    "data": {
                        "text/html": "(30 rows affected)"
                    },
                    "metadata": {}
                },
                {
                    "output_type": "display_data",
                    "data": {
                        "text/html": "Total execution time: 00:00:00.048"
                    },
                    "metadata": {}
                },
                {
                    "output_type": "execute_result",
                    "execution_count": 1,
                    "data": {
                        "application/vnd.dataresource+json": {
                            "schema": {
                                "fields": [
                                    {
                                        "name": "ora_id"
                                    },
                                    {
                                        "name": "terem"
                                    }
                                ]
                            },
                            "data": [
                                {
                                    "ora_id": "159",
                                    "terem": "117"
                                },
                                {
                                    "ora_id": "160",
                                    "terem": "118"
                                },
                                {
                                    "ora_id": "161",
                                    "terem": "118"
                                },
                                {
                                    "ora_id": "162",
                                    "terem": "119"
                                },
                                {
                                    "ora_id": "163",
                                    "terem": "120"
                                },
                                {
                                    "ora_id": "164",
                                    "terem": "119"
                                },
                                {
                                    "ora_id": "165",
                                    "terem": "119"
                                },
                                {
                                    "ora_id": "166",
                                    "terem": "119"
                                },
                                {
                                    "ora_id": "167",
                                    "terem": "120"
                                },
                                {
                                    "ora_id": "170",
                                    "terem": "120"
                                },
                                {
                                    "ora_id": "172",
                                    "terem": "119"
                                },
                                {
                                    "ora_id": "173",
                                    "terem": "119"
                                },
                                {
                                    "ora_id": "175",
                                    "terem": "120"
                                },
                                {
                                    "ora_id": "176",
                                    "terem": "118"
                                },
                                {
                                    "ora_id": "177",
                                    "terem": "119"
                                },
                                {
                                    "ora_id": "179",
                                    "terem": "120"
                                },
                                {
                                    "ora_id": "180",
                                    "terem": "119"
                                },
                                {
                                    "ora_id": "181",
                                    "terem": "118"
                                },
                                {
                                    "ora_id": "185",
                                    "terem": "120"
                                },
                                {
                                    "ora_id": "192",
                                    "terem": "119"
                                },
                                {
                                    "ora_id": "195",
                                    "terem": "116"
                                },
                                {
                                    "ora_id": "197",
                                    "terem": "116"
                                },
                                {
                                    "ora_id": "198",
                                    "terem": "119"
                                },
                                {
                                    "ora_id": "204",
                                    "terem": "120"
                                },
                                {
                                    "ora_id": "212",
                                    "terem": "120"
                                },
                                {
                                    "ora_id": "218",
                                    "terem": "118"
                                },
                                {
                                    "ora_id": "220",
                                    "terem": "119"
                                },
                                {
                                    "ora_id": "222",
                                    "terem": "116"
                                },
                                {
                                    "ora_id": "226",
                                    "terem": "117"
                                },
                                {
                                    "ora_id": "227",
                                    "terem": "116"
                                }
                            ]
                        },
                        "text/html": "<table><tr><th>ora_id</th><th>terem</th></tr><tr><td>159</td><td>117</td></tr><tr><td>160</td><td>118</td></tr><tr><td>161</td><td>118</td></tr><tr><td>162</td><td>119</td></tr><tr><td>163</td><td>120</td></tr><tr><td>164</td><td>119</td></tr><tr><td>165</td><td>119</td></tr><tr><td>166</td><td>119</td></tr><tr><td>167</td><td>120</td></tr><tr><td>170</td><td>120</td></tr><tr><td>172</td><td>119</td></tr><tr><td>173</td><td>119</td></tr><tr><td>175</td><td>120</td></tr><tr><td>176</td><td>118</td></tr><tr><td>177</td><td>119</td></tr><tr><td>179</td><td>120</td></tr><tr><td>180</td><td>119</td></tr><tr><td>181</td><td>118</td></tr><tr><td>185</td><td>120</td></tr><tr><td>192</td><td>119</td></tr><tr><td>195</td><td>116</td></tr><tr><td>197</td><td>116</td></tr><tr><td>198</td><td>119</td></tr><tr><td>204</td><td>120</td></tr><tr><td>212</td><td>120</td></tr><tr><td>218</td><td>118</td></tr><tr><td>220</td><td>119</td></tr><tr><td>222</td><td>116</td></tr><tr><td>226</td><td>117</td></tr><tr><td>227</td><td>116</td></tr></table>"
                    },
                    "metadata": {}
                }
            ],
            "execution_count": 1
        },
        {
            "cell_type": "markdown",
            "source": [
                "2. <span style=\"font-weight: 600; color: rgb(36, 41, 47); font-family: -apple-system, BlinkMacSystemFont, &quot;Segoe UI&quot;, Helvetica, Arial, sans-serif, &quot;Apple Color Emoji&quot;, &quot;Segoe UI Emoji&quot;; font-size: 16px;\">Hány óra van összesen az egyes napokon?</span>\n",
                "\n",
                "1. Jelenítsük meg a napok nevét és az órák számát az adott napon!\n",
                "2. Az oszlopokat nevezzük el értelemszerűen!\n",
                "3. A listát rendezzük óraszám szerint növekvő sorrendbe!"
            ],
            "metadata": {
                "azdata_cell_guid": "88f5b4bb-f4c1-4bad-a0c7-b2592687b422"
            },
            "attachments": {}
        },
        {
            "cell_type": "code",
            "source": [
                "SELECT n.nap,COUNT(*) AS \"Órák száma\"\r\n",
                "FROM Orak o JOIN Napok n ON o.nap=n.nap_id\r\n",
                "GROUP BY n.nap\r\n",
                "ORDER BY \"Órák száma\" ASC;\r\n",
                ""
            ],
            "metadata": {
                "azdata_cell_guid": "e9de5726-f036-4fb9-8c33-a873955ed886",
                "language": "sql"
            },
            "outputs": [
                {
                    "output_type": "display_data",
                    "data": {
                        "text/html": "(5 rows affected)"
                    },
                    "metadata": {}
                },
                {
                    "output_type": "display_data",
                    "data": {
                        "text/html": "Total execution time: 00:00:00.011"
                    },
                    "metadata": {}
                },
                {
                    "output_type": "execute_result",
                    "execution_count": 17,
                    "data": {
                        "application/vnd.dataresource+json": {
                            "schema": {
                                "fields": [
                                    {
                                        "name": "nap"
                                    },
                                    {
                                        "name": "Órák száma"
                                    }
                                ]
                            },
                            "data": [
                                {
                                    "nap": "Péntek",
                                    "Órák száma": "6"
                                },
                                {
                                    "nap": "Szerda",
                                    "Órák száma": "6"
                                },
                                {
                                    "nap": "Kedd",
                                    "Órák száma": "13"
                                },
                                {
                                    "nap": "Csütörtök",
                                    "Órák száma": "19"
                                },
                                {
                                    "nap": "Hétfő",
                                    "Órák száma": "23"
                                }
                            ]
                        },
                        "text/html": "<table><tr><th>nap</th><th>Órák száma</th></tr><tr><td>Péntek</td><td>6</td></tr><tr><td>Szerda</td><td>6</td></tr><tr><td>Kedd</td><td>13</td></tr><tr><td>Csütörtök</td><td>19</td></tr><tr><td>Hétfő</td><td>23</td></tr></table>"
                    },
                    "metadata": {}
                }
            ],
            "execution_count": 17
        },
        {
            "cell_type": "markdown",
            "source": [
                "3. <span style=\"font-weight: 600; color: rgb(36, 41, 47); font-family: -apple-system, BlinkMacSystemFont, &quot;Segoe UI&quot;, Helvetica, Arial, sans-serif, &quot;Apple Color Emoji&quot;, &quot;Segoe UI Emoji&quot;; font-size: 16px;\">Készítsünk listát arról, hogy melyik oktatónak hány órája van az Órák táblában!</span>\n",
                "\n",
                "1. A lista jelenítse meg az oktatók nevét, és az órák számát!\n",
                "2. Az oszlopokat nevezzük el értelemszerűen!\n",
                "3. A listából hagyjuk ki az óraadókat!"
            ],
            "metadata": {
                "azdata_cell_guid": "9e7249de-1b59-43d8-84b1-26fa7d81fc5a"
            },
            "attachments": {}
        },
        {
            "cell_type": "code",
            "source": [
                "SELECT ok.nev,COUNT(*) AS 'Óraszám'\r\n",
                "FROM Orak o JOIN Oktatok ok ON o.tanar=ok.oktato_id\r\n",
                "            JOIN statusok s ON ok.[status]=s.Skod\r\n",
                "WHERE NOT s.[Status] = 'Óraadó'\r\n",
                "GROUP BY ok.nev"
            ],
            "metadata": {
                "azdata_cell_guid": "6405d3e8-a9b1-45d7-aa76-3b1e785ef6cc",
                "language": "sql",
                "tags": []
            },
            "outputs": [
                {
                    "output_type": "display_data",
                    "data": {
                        "text/html": "(18 rows affected)"
                    },
                    "metadata": {}
                },
                {
                    "output_type": "display_data",
                    "data": {
                        "text/html": "Total execution time: 00:00:00.009"
                    },
                    "metadata": {}
                },
                {
                    "output_type": "execute_result",
                    "execution_count": 54,
                    "data": {
                        "application/vnd.dataresource+json": {
                            "schema": {
                                "fields": [
                                    {
                                        "name": "nev"
                                    },
                                    {
                                        "name": "Óraszám"
                                    }
                                ]
                            },
                            "data": [
                                {
                                    "nev": "Aranyi Mária",
                                    "Óraszám": "1"
                                },
                                {
                                    "nev": "Balkán András",
                                    "Óraszám": "3"
                                },
                                {
                                    "nev": "Jogrerős Pál",
                                    "Óraszám": "2"
                                },
                                {
                                    "nev": "Juhász András",
                                    "Óraszám": "2"
                                },
                                {
                                    "nev": "Kiss János",
                                    "Óraszám": "4"
                                },
                                {
                                    "nev": "Kovács András",
                                    "Óraszám": "4"
                                },
                                {
                                    "nev": "Kovács László",
                                    "Óraszám": "4"
                                },
                                {
                                    "nev": "Ludas Mátyás",
                                    "Óraszám": "2"
                                },
                                {
                                    "nev": "Nógrádi Kata",
                                    "Óraszám": "1"
                                },
                                {
                                    "nev": "Róbert Gida",
                                    "Óraszám": "1"
                                },
                                {
                                    "nev": "Szabó Andrera",
                                    "Óraszám": "2"
                                },
                                {
                                    "nev": "Szénási ászló",
                                    "Óraszám": "2"
                                },
                                {
                                    "nev": "Szentágotai Istvás",
                                    "Óraszám": "8"
                                },
                                {
                                    "nev": "Szép llonka",
                                    "Óraszám": "4"
                                },
                                {
                                    "nev": "Szerb László",
                                    "Óraszám": "3"
                                },
                                {
                                    "nev": "Ujfalussi István",
                                    "Óraszám": "3"
                                },
                                {
                                    "nev": "Varga Kata",
                                    "Óraszám": "4"
                                },
                                {
                                    "nev": "Vitéz János",
                                    "Óraszám": "4"
                                }
                            ]
                        },
                        "text/html": "<table><tr><th>nev</th><th>Óraszám</th></tr><tr><td>Aranyi Mária</td><td>1</td></tr><tr><td>Balkán András</td><td>3</td></tr><tr><td>Jogrerős Pál</td><td>2</td></tr><tr><td>Juhász András</td><td>2</td></tr><tr><td>Kiss János</td><td>4</td></tr><tr><td>Kovács András</td><td>4</td></tr><tr><td>Kovács László</td><td>4</td></tr><tr><td>Ludas Mátyás</td><td>2</td></tr><tr><td>Nógrádi Kata</td><td>1</td></tr><tr><td>Róbert Gida</td><td>1</td></tr><tr><td>Szabó Andrera</td><td>2</td></tr><tr><td>Szénási ászló</td><td>2</td></tr><tr><td>Szentágotai Istvás</td><td>8</td></tr><tr><td>Szép llonka</td><td>4</td></tr><tr><td>Szerb László</td><td>3</td></tr><tr><td>Ujfalussi István</td><td>3</td></tr><tr><td>Varga Kata</td><td>4</td></tr><tr><td>Vitéz János</td><td>4</td></tr></table>"
                    },
                    "metadata": {}
                }
            ],
            "execution_count": 54
        },
        {
            "cell_type": "markdown",
            "source": [
                "4. <span style=\"color: rgb(36, 41, 47); font-family: -apple-system, BlinkMacSystemFont, &quot;Segoe UI&quot;, Helvetica, Arial, sans-serif, &quot;Apple Color Emoji&quot;, &quot;Segoe UI Emoji&quot;; font-size: 16px;\">Van-e olyan tantárgy, amelyből nincs óra?</span>\n",
                "\n",
                "1. Jelentsük meg a tantárgy nevét és a tantárgyfelelős nevét!"
            ],
            "metadata": {
                "azdata_cell_guid": "6478e469-c094-472c-a772-ccd5b5c61516"
            },
            "attachments": {}
        },
        {
            "cell_type": "code",
            "source": [
                "SELECT t.Tantárgynév,ok.nev\r\n",
                "FROM Tantárgyak t LEFT JOIN Orak o ON t.Tkód = o.targy\r\n",
                "                        JOIN Oktatok ok ON t.Tantárgyfelelős=ok.oktato_id\r\n",
                "WHERE o.ora_id is NULL"
            ],
            "metadata": {
                "azdata_cell_guid": "02031ea2-3838-458d-839c-228e3b362b61",
                "language": "sql"
            },
            "outputs": [
                {
                    "output_type": "display_data",
                    "data": {
                        "text/html": "(1 row affected)"
                    },
                    "metadata": {}
                },
                {
                    "output_type": "display_data",
                    "data": {
                        "text/html": "Total execution time: 00:00:00.008"
                    },
                    "metadata": {}
                },
                {
                    "output_type": "execute_result",
                    "execution_count": 59,
                    "data": {
                        "application/vnd.dataresource+json": {
                            "schema": {
                                "fields": [
                                    {
                                        "name": "Tantárgynév"
                                    },
                                    {
                                        "name": "nev"
                                    }
                                ]
                            },
                            "data": [
                                {
                                    "Tantárgynév": "Folyami gáttan",
                                    "nev": "Varga Kata"
                                }
                            ]
                        },
                        "text/html": "<table><tr><th>Tantárgynév</th><th>nev</th></tr><tr><td>Folyami gáttan</td><td>Varga Kata</td></tr></table>"
                    },
                    "metadata": {}
                }
            ],
            "execution_count": 59
        },
        {
            "cell_type": "markdown",
            "source": [
                "5. <span style=\"background-color: rgb(255, 255, 255); color: rgb(36, 41, 47); font-family: -apple-system, BlinkMacSystemFont, &quot;Segoe UI&quot;, Helvetica, Arial, sans-serif, &quot;Apple Color Emoji&quot;, &quot;Segoe UI Emoji&quot;; font-size: 16px;\">Hány óra van összesen a 120-as teremben?</span>"
            ],
            "metadata": {
                "azdata_cell_guid": "9edbbaf9-c276-4898-9a01-e1b2993c089f"
            },
            "attachments": {}
        },
        {
            "cell_type": "code",
            "source": [
                ""
            ],
            "metadata": {
                "azdata_cell_guid": "5ad5fdcb-2878-4111-861a-833bcd50e935",
                "language": "sql"
            },
            "outputs": [],
            "execution_count": null
        },
        {
            "cell_type": "markdown",
            "source": [
                "**A 6-10 feladatokat halmazműveletek segítségével oldjuk meg, szintén a tanulmányi adatbázison**\n",
                "\n",
                "6. <span style=\"background-color:rgb(255, 255, 255);color:rgb(36, 41, 47);font-family:-apple-system, BlinkMacSystemFont, &quot;Segoe UI&quot;, Helvetica, Arial, sans-serif, &quot;Apple Color Emoji&quot;, &quot;Segoe UI Emoji&quot;;font-size:16px;font-weight:600;\">Jelenítsük meg azon tanárok azonosítóját és nevét, akik hétfői vagy keddi napokon tanítanak!</span>"
            ],
            "metadata": {
                "azdata_cell_guid": "5fe65c1c-2479-45ac-ad03-ec99d12eae21"
            },
            "attachments": {}
        },
        {
            "cell_type": "code",
            "source": [
                ""
            ],
            "metadata": {
                "azdata_cell_guid": "924f2dde-f1c2-4def-a7f9-dbf4bace7735",
                "language": "sql"
            },
            "outputs": [],
            "execution_count": null
        },
        {
            "cell_type": "markdown",
            "source": [
                "7. <span style=\"background-color: rgb(255, 255, 255); color: rgb(36, 41, 47); font-family: -apple-system, BlinkMacSystemFont, &quot;Segoe UI&quot;, Helvetica, Arial, sans-serif, &quot;Apple Color Emoji&quot;, &quot;Segoe UI Emoji&quot;; font-size: 16px; font-weight: 600;\">Melyek azok a tantárgyak, amelyek esetén van óra a 8.00-kor kezdődő sávban, de nincs a 12.30-kor kezdődő sávban?</span>"
            ],
            "metadata": {
                "azdata_cell_guid": "3aeb6bf5-b111-40d5-92b2-9712ce335696"
            },
            "attachments": {}
        },
        {
            "cell_type": "code",
            "source": [
                ""
            ],
            "metadata": {
                "azdata_cell_guid": "3e89b651-f56f-4102-af52-30eb2bbe360d",
                "language": "sql"
            },
            "outputs": [],
            "execution_count": null
        },
        {
            "cell_type": "markdown",
            "source": [
                "8. <span style=\"background-color: rgb(255, 255, 255); color: rgb(36, 41, 47); font-family: -apple-system, BlinkMacSystemFont, &quot;Segoe UI&quot;, Helvetica, Arial, sans-serif, &quot;Apple Color Emoji&quot;, &quot;Segoe UI Emoji&quot;; font-size: 16px; font-weight: 600;\">Listázzuk azokat a termeket, amelyekben oktat Kovács László és van olyan tanóra a teremben, ahol a tantárgy nevében nem szerepel az 'ürge' szó!</span>"
            ],
            "metadata": {
                "azdata_cell_guid": "26a504dc-ff6a-439f-94c0-4580eca3eacf"
            },
            "attachments": {}
        },
        {
            "cell_type": "code",
            "source": [
                ""
            ],
            "metadata": {
                "azdata_cell_guid": "1cbb8aeb-78b5-4350-aa45-e3202fdab85b",
                "language": "sql"
            },
            "outputs": [],
            "execution_count": null
        },
        {
            "cell_type": "markdown",
            "source": [
                "9. <span style=\"font-weight: 600; color: rgb(36, 41, 47); font-family: -apple-system, BlinkMacSystemFont, &quot;Segoe UI&quot;, Helvetica, Arial, sans-serif, &quot;Apple Color Emoji&quot;, &quot;Segoe UI Emoji&quot;; font-size: 16px;\">Készítsünk listát arról, hogy melyik tanárnak hány órája van a (munka) hét elején (hétfőn), hét közben (kedd, szerda és csütörtök), illetve a hét végén (péntek)!</span>\n",
                "\n",
                "1. Jelenítsük meg a tanár azonosítóját, nevét, az időszakot (hét eleje - hét közben - hét vége), valamint az óraszámot!\n",
                "2. A három megjelölt időszakot külön kérdezzük le, majd fűzzük össze a lekérdezések eredményeit!\n",
                "3. Rendezzük a listát az oktató neve, azon belül időszak szerint!"
            ],
            "metadata": {
                "azdata_cell_guid": "435e2860-2dd5-4877-90f4-34a43baeb53c"
            },
            "attachments": {}
        },
        {
            "cell_type": "code",
            "source": [
                ""
            ],
            "metadata": {
                "azdata_cell_guid": "ce846351-ddbe-4d8e-b8fb-2a92c73ac80b",
                "language": "sql"
            },
            "outputs": [],
            "execution_count": null
        },
        {
            "cell_type": "markdown",
            "source": [
                "10. <span style=\"background-color: rgb(255, 255, 255); color: rgb(36, 41, 47); font-family: -apple-system, BlinkMacSystemFont, &quot;Segoe UI&quot;, Helvetica, Arial, sans-serif, &quot;Apple Color Emoji&quot;, &quot;Segoe UI Emoji&quot;; font-size: 16px; font-weight: 600;\">Melyik napokon nincs órája Pelikán Józsefnek?</span>"
            ],
            "metadata": {
                "azdata_cell_guid": "217c5772-afe2-4a7c-b913-e3a3e09d6411"
            },
            "attachments": {}
        },
        {
            "cell_type": "code",
            "source": [
                "SELECT nap\r\n",
                "FROM Napok\r\n",
                "EXCEPT\r\n",
                "SELECT n.nap\r\n",
                "FROM Orak o JOIN Oktatok ok ON o.tanar =ok.oktato_id\r\n",
                "            JOIN Napok n ON o.nap=n.nap_id\r\n",
                "WHERE ok.nev ='Pelikán József'"
            ],
            "metadata": {
                "azdata_cell_guid": "a9cc0926-3dbd-4ed8-8179-1c39d64a0762",
                "language": "sql"
            },
            "outputs": [
                {
                    "output_type": "display_data",
                    "data": {
                        "text/html": "(3 rows affected)"
                    },
                    "metadata": {}
                },
                {
                    "output_type": "display_data",
                    "data": {
                        "text/html": "Total execution time: 00:00:00.015"
                    },
                    "metadata": {}
                },
                {
                    "output_type": "execute_result",
                    "execution_count": 62,
                    "data": {
                        "application/vnd.dataresource+json": {
                            "schema": {
                                "fields": [
                                    {
                                        "name": "nap"
                                    }
                                ]
                            },
                            "data": [
                                {
                                    "nap": "Csütörtök"
                                },
                                {
                                    "nap": "Péntek"
                                },
                                {
                                    "nap": "Szerda"
                                }
                            ]
                        },
                        "text/html": "<table><tr><th>nap</th></tr><tr><td>Csütörtök</td></tr><tr><td>Péntek</td></tr><tr><td>Szerda</td></tr></table>"
                    },
                    "metadata": {}
                }
            ],
            "execution_count": 62
        },
        {
            "cell_type": "markdown",
            "source": [
                "**A 11-15 feladatok gyakorlásra szolgálnak a közelgő zh-ra :-)**\n",
                "\n",
                "11. _Készítsünk listát az oktatók adatairól!_\n",
                "\n",
                "1. Az oktatók titulusa és neve összefűzve jelenjen meg, közöttük szóközzel!\n",
                "2. Ha valakinek nincs titulusa, akkor csak a neve jelenjen meg, szóköz nélkül!\n",
                "3. A listát rendezzük a beosztás kódja, azon belül a státusz kódja szerint növekvő sorrendbe!\n",
                "4. Az oszlopokat nevezzük el értelemszerűen!"
            ],
            "metadata": {
                "azdata_cell_guid": "d2340f5f-1614-473c-b937-85740d67f7c1"
            },
            "attachments": {}
        },
        {
            "cell_type": "code",
            "source": [
                "SELECT IIF(titulus IS NUll, nev,titulus+' '+nev) AS 'Név',beosztás,status\n",
                "FROM Oktatok\n",
                "ORDER BY beosztás,status\n",
                ""
            ],
            "metadata": {
                "azdata_cell_guid": "e99c2c53-898f-4787-b0e6-182d106dc16f",
                "language": "sql"
            },
            "outputs": [
                {
                    "output_type": "display_data",
                    "data": {
                        "text/html": "(25 rows affected)"
                    },
                    "metadata": {}
                },
                {
                    "output_type": "display_data",
                    "data": {
                        "text/html": "Total execution time: 00:00:00.020"
                    },
                    "metadata": {}
                },
                {
                    "output_type": "execute_result",
                    "metadata": {},
                    "execution_count": 10,
                    "data": {
                        "application/vnd.dataresource+json": {
                            "schema": {
                                "fields": [
                                    {
                                        "name": "Név"
                                    },
                                    {
                                        "name": "beosztás"
                                    },
                                    {
                                        "name": "status"
                                    }
                                ]
                            },
                            "data": [
                                {
                                    "Név": "Nógrádi Kata",
                                    "beosztás": "1",
                                    "status": "1"
                                },
                                {
                                    "Név": "Rácz András",
                                    "beosztás": "1",
                                    "status": "1"
                                },
                                {
                                    "Név": "Kovács András",
                                    "beosztás": "1",
                                    "status": "1"
                                },
                                {
                                    "Név": "Ludas Mátyás",
                                    "beosztás": "1",
                                    "status": "1"
                                },
                                {
                                    "Név": "Aranyi Mária",
                                    "beosztás": "1",
                                    "status": "1"
                                },
                                {
                                    "Név": "Szabó Andrera",
                                    "beosztás": "1",
                                    "status": "1"
                                },
                                {
                                    "Név": "Kiss István",
                                    "beosztás": "1",
                                    "status": "2"
                                },
                                {
                                    "Név": "Mészáros Kriszta",
                                    "beosztás": "1",
                                    "status": "2"
                                },
                                {
                                    "Név": "Róbert Gida",
                                    "beosztás": "2",
                                    "status": "1"
                                },
                                {
                                    "Név": "Vitéz János",
                                    "beosztás": "2",
                                    "status": "1"
                                },
                                {
                                    "Név": "Kiss János",
                                    "beosztás": "2",
                                    "status": "1"
                                },
                                {
                                    "Név": "Pelikán József",
                                    "beosztás": "2",
                                    "status": "3"
                                },
                                {
                                    "Név": "Farkasos Piroska",
                                    "beosztás": "2",
                                    "status": "3"
                                },
                                {
                                    "Név": "Dr. Szép llonka",
                                    "beosztás": "3",
                                    "status": "1"
                                },
                                {
                                    "Név": "Szénási ászló",
                                    "beosztás": "3",
                                    "status": "1"
                                },
                                {
                                    "Név": "Dr. Szentágotai Istvás",
                                    "beosztás": "3",
                                    "status": "2"
                                },
                                {
                                    "Név": "Szerb László",
                                    "beosztás": "4",
                                    "status": "1"
                                },
                                {
                                    "Név": "Dr. Józsa Gábor",
                                    "beosztás": "4",
                                    "status": "1"
                                },
                                {
                                    "Név": "Dr. Varga Kata",
                                    "beosztás": "4",
                                    "status": "1"
                                },
                                {
                                    "Név": "Dr. Balkán András",
                                    "beosztás": "4",
                                    "status": "2"
                                },
                                {
                                    "Név": "Dr. Kovacs Istvan",
                                    "beosztás": "5",
                                    "status": "1"
                                },
                                {
                                    "Név": "Dr. Juhász András",
                                    "beosztás": "6",
                                    "status": "1"
                                },
                                {
                                    "Név": "Prof. Jogrerős Pál",
                                    "beosztás": "6",
                                    "status": "1"
                                },
                                {
                                    "Név": "Dr. Kovács László",
                                    "beosztás": "6",
                                    "status": "2"
                                },
                                {
                                    "Név": "Prof, tanszékvezető Ujfalussi István",
                                    "beosztás": "6",
                                    "status": "2"
                                }
                            ]
                        },
                        "text/html": [
                            "<table>",
                            "<tr><th>Név</th><th>beosztás</th><th>status</th></tr>",
                            "<tr><td>Nógrádi Kata</td><td>1</td><td>1</td></tr>",
                            "<tr><td>Rácz András</td><td>1</td><td>1</td></tr>",
                            "<tr><td>Kovács András</td><td>1</td><td>1</td></tr>",
                            "<tr><td>Ludas Mátyás</td><td>1</td><td>1</td></tr>",
                            "<tr><td>Aranyi Mária</td><td>1</td><td>1</td></tr>",
                            "<tr><td>Szabó Andrera</td><td>1</td><td>1</td></tr>",
                            "<tr><td>Kiss István</td><td>1</td><td>2</td></tr>",
                            "<tr><td>Mészáros Kriszta</td><td>1</td><td>2</td></tr>",
                            "<tr><td>Róbert Gida</td><td>2</td><td>1</td></tr>",
                            "<tr><td>Vitéz János</td><td>2</td><td>1</td></tr>",
                            "<tr><td>Kiss János</td><td>2</td><td>1</td></tr>",
                            "<tr><td>Pelikán József</td><td>2</td><td>3</td></tr>",
                            "<tr><td>Farkasos Piroska</td><td>2</td><td>3</td></tr>",
                            "<tr><td>Dr. Szép llonka</td><td>3</td><td>1</td></tr>",
                            "<tr><td>Szénási ászló</td><td>3</td><td>1</td></tr>",
                            "<tr><td>Dr. Szentágotai Istvás</td><td>3</td><td>2</td></tr>",
                            "<tr><td>Szerb László</td><td>4</td><td>1</td></tr>",
                            "<tr><td>Dr. Józsa Gábor</td><td>4</td><td>1</td></tr>",
                            "<tr><td>Dr. Varga Kata</td><td>4</td><td>1</td></tr>",
                            "<tr><td>Dr. Balkán András</td><td>4</td><td>2</td></tr>",
                            "<tr><td>Dr. Kovacs Istvan</td><td>5</td><td>1</td></tr>",
                            "<tr><td>Dr. Juhász András</td><td>6</td><td>1</td></tr>",
                            "<tr><td>Prof. Jogrerős Pál</td><td>6</td><td>1</td></tr>",
                            "<tr><td>Dr. Kovács László</td><td>6</td><td>2</td></tr>",
                            "<tr><td>Prof, tanszékvezető Ujfalussi István</td><td>6</td><td>2</td></tr>",
                            "</table>"
                        ]
                    }
                }
            ],
            "execution_count": 10
        },
        {
            "cell_type": "markdown",
            "source": [
                "<span style=\"color: #09885a;\">12</span>. Készítsünk listát, amely megmutatja, hogy összesen hány tantárgy van kreditenkénti csoportosításban!\n",
                "\n",
                "  \n",
                "\n",
                "A listából hagyjuk ki azokat a tételeket, ahol ez a darabszám <span style=\"color: #09885a;\">1</span>!\n",
                "\n",
                "A Folyami gáttan tantárgyat ne vegyük figyelembe!\n",
                "\n",
                "A listát rendezzük darabszám szerint csökkenő sorrendbe!\n",
                "\n",
                "Az oszlopokat nevezzük el értelemszerűen!"
            ],
            "metadata": {
                "azdata_cell_guid": "a765e9d6-58b3-4171-872a-78f3118fd6e3"
            },
            "attachments": {}
        },
        {
            "cell_type": "code",
            "source": [
                "SELECT COUNT(Tantárgynév) AS 'Tantárgyszám', Kredit AS 'Kreditszám'\n",
                "FROM Tantárgyak\n",
                "WHERE Tantárgynév <> 'Folyami gáttan'\n",
                "GROUP BY Kredit\n",
                "HAVING COUNT(Tantárgynév) >1\n",
                "ORDER BY 'Tantárgyszám' DESC\n",
                ""
            ],
            "metadata": {
                "azdata_cell_guid": "422e8127-b652-4d3a-bfd7-9b1637b5781e",
                "language": "sql"
            },
            "outputs": [
                {
                    "output_type": "display_data",
                    "data": {
                        "text/html": "(4 rows affected)"
                    },
                    "metadata": {}
                },
                {
                    "output_type": "display_data",
                    "data": {
                        "text/html": "Total execution time: 00:00:00.024"
                    },
                    "metadata": {}
                },
                {
                    "output_type": "execute_result",
                    "metadata": {},
                    "execution_count": 31,
                    "data": {
                        "application/vnd.dataresource+json": {
                            "schema": {
                                "fields": [
                                    {
                                        "name": "Tantárgyszám"
                                    },
                                    {
                                        "name": "Kreditszám"
                                    }
                                ]
                            },
                            "data": [
                                {
                                    "Tantárgyszám": "3",
                                    "Kreditszám": "2"
                                },
                                {
                                    "Tantárgyszám": "3",
                                    "Kreditszám": "3"
                                },
                                {
                                    "Tantárgyszám": "2",
                                    "Kreditszám": "4"
                                },
                                {
                                    "Tantárgyszám": "2",
                                    "Kreditszám": "1"
                                }
                            ]
                        },
                        "text/html": [
                            "<table>",
                            "<tr><th>Tantárgyszám</th><th>Kreditszám</th></tr>",
                            "<tr><td>3</td><td>2</td></tr>",
                            "<tr><td>3</td><td>3</td></tr>",
                            "<tr><td>2</td><td>4</td></tr>",
                            "<tr><td>2</td><td>1</td></tr>",
                            "</table>"
                        ]
                    }
                }
            ],
            "execution_count": 31
        },
        {
            "cell_type": "markdown",
            "source": [
                "13. _Készítsünk listát az oktatók nevéről, a beosztásuk alapján elvárt és a tényleges óraszámukról!_\n",
                "\n",
                "1. Az oszlopok neve legyen 'Oktató neve', 'Elvárt óraszám' és 'Tényleges óraszám'\n",
                "2. Szűrjük a listát azokra az oktatókra, ahol az elvárt és a tényleges óraszám azonos"
            ],
            "metadata": {
                "azdata_cell_guid": "3f9237ae-f109-401c-acb9-31d75e73331b"
            },
            "attachments": {}
        },
        {
            "cell_type": "code",
            "source": [
                "SELECT o.nev,COUNT(b.elvart) AS 'elvárt', COUNT(o.nev) AS 'valós'\n",
                "FROM Oktatok o JOIN Orak ora ON o.oktato_id=ora.tanar\n",
                "JOIN Beosztasok b ON o.beosztás=b.beosztas_id\n",
                "GROUP BY o.nev , b.elvart\n",
                "HAVING COUNT(b.elvart)=COUNT(o.nev)\n",
                "\n",
                "                "
            ],
            "metadata": {
                "azdata_cell_guid": "4b31bb89-cfbc-46b1-8639-85c462877786",
                "language": "sql",
                "tags": []
            },
            "outputs": [
                {
                    "output_type": "display_data",
                    "data": {
                        "text/html": "(20 rows affected)"
                    },
                    "metadata": {}
                },
                {
                    "output_type": "display_data",
                    "data": {
                        "text/html": "Total execution time: 00:00:00.027"
                    },
                    "metadata": {}
                },
                {
                    "output_type": "execute_result",
                    "metadata": {},
                    "execution_count": 57,
                    "data": {
                        "application/vnd.dataresource+json": {
                            "schema": {
                                "fields": [
                                    {
                                        "name": "nev"
                                    },
                                    {
                                        "name": "elvárt"
                                    },
                                    {
                                        "name": "valós"
                                    }
                                ]
                            },
                            "data": [
                                {
                                    "nev": "Aranyi Mária",
                                    "elvárt": "1",
                                    "valós": "1"
                                },
                                {
                                    "nev": "Balkán András",
                                    "elvárt": "3",
                                    "valós": "3"
                                },
                                {
                                    "nev": "Farkasos Piroska",
                                    "elvárt": "7",
                                    "valós": "7"
                                },
                                {
                                    "nev": "Jogrerős Pál",
                                    "elvárt": "2",
                                    "valós": "2"
                                },
                                {
                                    "nev": "Juhász András",
                                    "elvárt": "2",
                                    "valós": "2"
                                },
                                {
                                    "nev": "Kiss János",
                                    "elvárt": "4",
                                    "valós": "4"
                                },
                                {
                                    "nev": "Kovács András",
                                    "elvárt": "4",
                                    "valós": "4"
                                },
                                {
                                    "nev": "Kovács László",
                                    "elvárt": "4",
                                    "valós": "4"
                                },
                                {
                                    "nev": "Ludas Mátyás",
                                    "elvárt": "2",
                                    "valós": "2"
                                },
                                {
                                    "nev": "Nógrádi Kata",
                                    "elvárt": "1",
                                    "valós": "1"
                                },
                                {
                                    "nev": "Pelikán József",
                                    "elvárt": "6",
                                    "valós": "6"
                                },
                                {
                                    "nev": "Róbert Gida",
                                    "elvárt": "1",
                                    "valós": "1"
                                },
                                {
                                    "nev": "Szabó Andrera",
                                    "elvárt": "2",
                                    "valós": "2"
                                },
                                {
                                    "nev": "Szénási ászló",
                                    "elvárt": "2",
                                    "valós": "2"
                                },
                                {
                                    "nev": "Szentágotai Istvás",
                                    "elvárt": "8",
                                    "valós": "8"
                                },
                                {
                                    "nev": "Szép llonka",
                                    "elvárt": "4",
                                    "valós": "4"
                                },
                                {
                                    "nev": "Szerb László",
                                    "elvárt": "3",
                                    "valós": "3"
                                },
                                {
                                    "nev": "Ujfalussi István",
                                    "elvárt": "3",
                                    "valós": "3"
                                },
                                {
                                    "nev": "Varga Kata",
                                    "elvárt": "4",
                                    "valós": "4"
                                },
                                {
                                    "nev": "Vitéz János",
                                    "elvárt": "4",
                                    "valós": "4"
                                }
                            ]
                        },
                        "text/html": [
                            "<table>",
                            "<tr><th>nev</th><th>elvárt</th><th>valós</th></tr>",
                            "<tr><td>Aranyi Mária</td><td>1</td><td>1</td></tr>",
                            "<tr><td>Balkán András</td><td>3</td><td>3</td></tr>",
                            "<tr><td>Farkasos Piroska</td><td>7</td><td>7</td></tr>",
                            "<tr><td>Jogrerős Pál</td><td>2</td><td>2</td></tr>",
                            "<tr><td>Juhász András</td><td>2</td><td>2</td></tr>",
                            "<tr><td>Kiss János</td><td>4</td><td>4</td></tr>",
                            "<tr><td>Kovács András</td><td>4</td><td>4</td></tr>",
                            "<tr><td>Kovács László</td><td>4</td><td>4</td></tr>",
                            "<tr><td>Ludas Mátyás</td><td>2</td><td>2</td></tr>",
                            "<tr><td>Nógrádi Kata</td><td>1</td><td>1</td></tr>",
                            "<tr><td>Pelikán József</td><td>6</td><td>6</td></tr>",
                            "<tr><td>Róbert Gida</td><td>1</td><td>1</td></tr>",
                            "<tr><td>Szabó Andrera</td><td>2</td><td>2</td></tr>",
                            "<tr><td>Szénási ászló</td><td>2</td><td>2</td></tr>",
                            "<tr><td>Szentágotai Istvás</td><td>8</td><td>8</td></tr>",
                            "<tr><td>Szép llonka</td><td>4</td><td>4</td></tr>",
                            "<tr><td>Szerb László</td><td>3</td><td>3</td></tr>",
                            "<tr><td>Ujfalussi István</td><td>3</td><td>3</td></tr>",
                            "<tr><td>Varga Kata</td><td>4</td><td>4</td></tr>",
                            "<tr><td>Vitéz János</td><td>4</td><td>4</td></tr>",
                            "</table>"
                        ]
                    }
                }
            ],
            "execution_count": 57
        },
        {
            "cell_type": "markdown",
            "source": [
                "14. _Készítsünk listát, amely megmutatja, hogy mely tantárgyból nincs óra egyáltalán!_\n",
                "\n",
                "1. Csak a tantárgy neve jelenjen meg!"
            ],
            "metadata": {
                "azdata_cell_guid": "f634e09a-85ef-4e70-8ec6-ef355dfddaa7"
            },
            "attachments": {}
        },
        {
            "cell_type": "code",
            "source": [
                "SELECT t.Tantárgynév\n",
                "FROM Tantárgyak t LEFT JOIN Orak o ON t.Tkód=o.targy\n",
                "WHERE o.ora_id is NULL"
            ],
            "metadata": {
                "azdata_cell_guid": "88abc55b-2c78-495b-a72f-3f8f4eb5fe70",
                "language": "sql",
                "tags": []
            },
            "outputs": [
                {
                    "output_type": "display_data",
                    "data": {
                        "text/html": "(1 row affected)"
                    },
                    "metadata": {}
                },
                {
                    "output_type": "display_data",
                    "data": {
                        "text/html": "Total execution time: 00:00:00.114"
                    },
                    "metadata": {}
                },
                {
                    "output_type": "execute_result",
                    "metadata": {},
                    "execution_count": 66,
                    "data": {
                        "application/vnd.dataresource+json": {
                            "schema": {
                                "fields": [
                                    {
                                        "name": "Tantárgynév"
                                    }
                                ]
                            },
                            "data": [
                                {
                                    "Tantárgynév": "Folyami gáttan"
                                }
                            ]
                        },
                        "text/html": [
                            "<table>",
                            "<tr><th>Tantárgynév</th></tr>",
                            "<tr><td>Folyami gáttan</td></tr>",
                            "</table>"
                        ]
                    }
                }
            ],
            "execution_count": 66
        },
        {
            "cell_type": "markdown",
            "source": [
                "15. _Hány órájuk van az óraadóknak napi bontásban?_\n",
                "\n",
                "1. Csak a napok nevét és az óraszámot jelenítsük meg!\n",
                "2. Rendezzük a listát óraszám szerint növekvő sorrendbe!"
            ],
            "metadata": {
                "azdata_cell_guid": "4cbf2f0d-a65d-480a-8186-ccdb24498443"
            },
            "attachments": {}
        },
        {
            "cell_type": "code",
            "source": [
                "SELECT n.nap,COUNT(*)\n",
                "FROM Orak o JOIN Oktatok okt on o.tanar=okt.oktato_id JOIN Napok n on n.nap_id=o.nap JOIN statusok s on okt.[status]=s.Skod\n",
                "WHERE s.[Status]='Óraadó'\n",
                "GROUP BY n.nap\n",
                "ORDER BY 2"
            ],
            "metadata": {
                "azdata_cell_guid": "c148aee8-bc85-40bf-b80a-a4898a6c05cb",
                "language": "sql",
                "tags": []
            },
            "outputs": [
                {
                    "output_type": "display_data",
                    "data": {
                        "text/html": "(5 rows affected)"
                    },
                    "metadata": {}
                },
                {
                    "output_type": "display_data",
                    "data": {
                        "text/html": "Total execution time: 00:00:00.033"
                    },
                    "metadata": {}
                },
                {
                    "output_type": "execute_result",
                    "metadata": {},
                    "execution_count": 71,
                    "data": {
                        "application/vnd.dataresource+json": {
                            "schema": {
                                "fields": [
                                    {
                                        "name": "nap"
                                    },
                                    {
                                        "name": "(No column name)"
                                    }
                                ]
                            },
                            "data": [
                                {
                                    "nap": "Péntek",
                                    "(No column name)": "1"
                                },
                                {
                                    "nap": "Szerda",
                                    "(No column name)": "1"
                                },
                                {
                                    "nap": "Csütörtök",
                                    "(No column name)": "3"
                                },
                                {
                                    "nap": "Kedd",
                                    "(No column name)": "3"
                                },
                                {
                                    "nap": "Hétfő",
                                    "(No column name)": "5"
                                }
                            ]
                        },
                        "text/html": [
                            "<table>",
                            "<tr><th>nap</th><th>(No column name)</th></tr>",
                            "<tr><td>Péntek</td><td>1</td></tr>",
                            "<tr><td>Szerda</td><td>1</td></tr>",
                            "<tr><td>Csütörtök</td><td>3</td></tr>",
                            "<tr><td>Kedd</td><td>3</td></tr>",
                            "<tr><td>Hétfő</td><td>5</td></tr>",
                            "</table>"
                        ]
                    }
                }
            ],
            "execution_count": 71
        }
    ]
}