{
    "metadata": {
        "kernelspec": {
            "name": "SQL",
            "display_name": "SQL",
            "language": "sql"
        },
        "language_info": {
            "name": "sql",
            "version": ""
        }
    },
    "nbformat_minor": 2,
    "nbformat": 4,
    "cells": [
        {
            "cell_type": "markdown",
            "source": [
                "1\\. Tantárgyak eloszlása"
            ],
            "metadata": {
                "azdata_cell_guid": "ef3ed0d5-a32a-4490-9915-35c29b87c314"
            },
            "attachments": {}
        },
        {
            "cell_type": "code",
            "source": [
                "SELECT Tantárgynév,  \n",
                "COUNT(*) AS gyakoriság,\n",
                "(COUNT(*) * 100 / (SELECT COUNT(*) FROM Orak o Join Tantárgyak t on o.targy=t.Tkód)) AS percentage \n",
                "FROM Orak o Join Tantárgyak t on o.targy=t.Tkód\n",
                "GROUP BY Tantárgynév\n",
                "ORDER BY gyakoriság DESC;\n",
                ""
            ],
            "metadata": {
                "azdata_cell_guid": "ed2adfbc-a82b-4db5-a148-cd9f7239cafd",
                "language": "sql"
            },
            "outputs": [
                {
                    "output_type": "display_data",
                    "data": {
                        "text/html": "(12 rows affected)"
                    },
                    "metadata": {}
                },
                {
                    "output_type": "display_data",
                    "data": {
                        "text/html": "Total execution time: 00:00:00.100"
                    },
                    "metadata": {}
                },
                {
                    "output_type": "execute_result",
                    "metadata": {},
                    "execution_count": 22,
                    "data": {
                        "application/vnd.dataresource+json": {
                            "schema": {
                                "fields": [
                                    {
                                        "name": "Tantárgynév"
                                    },
                                    {
                                        "name": "gyakoriság"
                                    },
                                    {
                                        "name": "percentage"
                                    }
                                ]
                            },
                            "data": [
                                {
                                    "Tantárgynév": "Az ürgeöntés alapjai",
                                    "gyakoriság": "675",
                                    "percentage": "40"
                                },
                                {
                                    "Tantárgynév": "Az ürgeöntés hydrológiai alapjai II.",
                                    "gyakoriság": "250",
                                    "percentage": "14"
                                },
                                {
                                    "Tantárgynév": "Az ürge anatómiája",
                                    "gyakoriság": "150",
                                    "percentage": "8"
                                },
                                {
                                    "Tantárgynév": "Bevezetés az ürgeöntésbe",
                                    "gyakoriság": "100",
                                    "percentage": "5"
                                },
                                {
                                    "Tantárgynév": "Fejezetek az ürgék jogaiból",
                                    "gyakoriság": "100",
                                    "percentage": "5"
                                },
                                {
                                    "Tantárgynév": "Ürgeöntés az EU-ban",
                                    "gyakoriság": "100",
                                    "percentage": "5"
                                },
                                {
                                    "Tantárgynév": "Az öntés elmélete",
                                    "gyakoriság": "75",
                                    "percentage": "4"
                                },
                                {
                                    "Tantárgynév": "Az ürgeöntés hydrológiai alapjai I.",
                                    "gyakoriság": "75",
                                    "percentage": "4"
                                },
                                {
                                    "Tantárgynév": "Öntési gyakorlat",
                                    "gyakoriság": "50",
                                    "percentage": "2"
                                },
                                {
                                    "Tantárgynév": "Ürgevitel",
                                    "gyakoriság": "50",
                                    "percentage": "2"
                                },
                                {
                                    "Tantárgynév": "ü-business",
                                    "gyakoriság": "25",
                                    "percentage": "1"
                                },
                                {
                                    "Tantárgynév": "ürgefőzés",
                                    "gyakoriság": "25",
                                    "percentage": "1"
                                }
                            ]
                        },
                        "text/html": [
                            "<table>",
                            "<tr><th>Tantárgynév</th><th>gyakoriság</th><th>percentage</th></tr>",
                            "<tr><td>Az ürgeöntés alapjai</td><td>675</td><td>40</td></tr>",
                            "<tr><td>Az ürgeöntés hydrológiai alapjai II.</td><td>250</td><td>14</td></tr>",
                            "<tr><td>Az ürge anatómiája</td><td>150</td><td>8</td></tr>",
                            "<tr><td>Bevezetés az ürgeöntésbe</td><td>100</td><td>5</td></tr>",
                            "<tr><td>Fejezetek az ürgék jogaiból</td><td>100</td><td>5</td></tr>",
                            "<tr><td>Ürgeöntés az EU-ban</td><td>100</td><td>5</td></tr>",
                            "<tr><td>Az öntés elmélete</td><td>75</td><td>4</td></tr>",
                            "<tr><td>Az ürgeöntés hydrológiai alapjai I.</td><td>75</td><td>4</td></tr>",
                            "<tr><td>Öntési gyakorlat</td><td>50</td><td>2</td></tr>",
                            "<tr><td>Ürgevitel</td><td>50</td><td>2</td></tr>",
                            "<tr><td>ü-business</td><td>25</td><td>1</td></tr>",
                            "<tr><td>ürgefőzés</td><td>25</td><td>1</td></tr>",
                            "</table>"
                        ]
                    }
                }
            ],
            "execution_count": 22
        }
    ]
}