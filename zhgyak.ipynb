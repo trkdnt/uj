{
    "metadata": {
        "kernelspec": {
            "name": "SQL",
            "display_name": "SQL",
            "language": "sql"
        },
        "language_info": {
            "name": "sql",
            "version": ""
        }
    },
    "nbformat_minor": 2,
    "nbformat": 4,
    "cells": [
        {
            "cell_type": "markdown",
            "source": [
                "![](data:image/png;base64,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)"
            ],
            "metadata": {
                "azdata_cell_guid": "0a65772a-9f8f-4752-b295-ec854faac062"
            },
            "attachments": {}
        },
        {
            "cell_type": "code",
            "source": [
                "SELECT IIF(v.usernev is null,'Végösszeg',v.usernev), COUNT(DISTINCT szh.szallas_id)\r\n",
                "FROM Vendeg v \r\n",
                "LEFT JOIN Foglalas f ON v.usernev = f.ugyfel_fk\r\n",
                "LEFT JOIN Szoba sz ON f.SZOBA_FK = sz.SZOBA_ID\r\n",
                "LEFT JOIN Szallashely szh ON sz.SZALLAS_FK=szh.szallas_id\r\n",
                "GROUP BY ROLLUP(v.usernev)"
            ],
            "metadata": {
                "azdata_cell_guid": "5675abc5-f673-44fd-9f08-e3905c62111a",
                "language": "sql"
            },
            "outputs": [
                {
                    "output_type": "display_data",
                    "data": {
                        "text/html": "Warning: Null value is eliminated by an aggregate or other SET operation."
                    },
                    "metadata": {}
                },
                {
                    "output_type": "display_data",
                    "data": {
                        "text/html": "(197 rows affected)"
                    },
                    "metadata": {}
                },
                {
                    "output_type": "display_data",
                    "data": {
                        "text/html": "Total execution time: 00:00:00.025"
                    },
                    "metadata": {}
                },
                {
                    "output_type": "execute_result",
                    "metadata": {},
                    "execution_count": 3,
                    "data": {
                        "application/vnd.dataresource+json": {
                            "schema": {
                                "fields": [
                                    {
                                        "name": "(No column name)"
                                    },
                                    {
                                        "name": "(No column name)"
                                    }
                                ]
                            },
                            "data": [
                                {
                                    "(No column name)": "2"
                                },
                                {
                                    "(No column name)": "2"
                                },
                                {
                                    "(No column name)": "5"
                                },
                                {
                                    "(No column name)": "4"
                                },
                                {
                                    "(No column name)": "3"
                                },
                                {
                                    "(No column name)": "5"
                                },
                                {
                                    "(No column name)": "3"
                                },
                                {
                                    "(No column name)": "7"
                                },
                                {
                                    "(No column name)": "3"
                                },
                                {
                                    "(No column name)": "6"
                                },
                                {
                                    "(No column name)": "4"
                                },
                                {
                                    "(No column name)": "3"
                                },
                                {
                                    "(No column name)": "6"
                                },
                                {
                                    "(No column name)": "5"
                                },
                                {
                                    "(No column name)": "2"
                                },
                                {
                                    "(No column name)": "5"
                                },
                                {
                                    "(No column name)": "3"
                                },
                                {
                                    "(No column name)": "1"
                                },
                                {
                                    "(No column name)": "4"
                                },
                                {
                                    "(No column name)": "1"
                                },
                                {
                                    "(No column name)": "2"
                                },
                                {
                                    "(No column name)": "2"
                                },
                                {
                                    "(No column name)": "6"
                                },
                                {
                                    "(No column name)": "3"
                                },
                                {
                                    "(No column name)": "3"
                                },
                                {
                                    "(No column name)": "6"
                                },
                                {
                                    "(No column name)": "4"
                                },
                                {
                                    "(No column name)": "1"
                                },
                                {
                                    "(No column name)": "5"
                                },
                                {
                                    "(No column name)": "5"
                                },
                                {
                                    "(No column name)": "8"
                                },
                                {
                                    "(No column name)": "4"
                                },
                                {
                                    "(No column name)": "3"
                                },
                                {
                                    "(No column name)": "5"
                                },
                                {
                                    "(No column name)": "3"
                                },
                                {
                                    "(No column name)": "5"
                                },
                                {
                                    "(No column name)": "3"
                                },
                                {
                                    "(No column name)": "2"
                                },
                                {
                                    "(No column name)": "6"
                                },
                                {
                                    "(No column name)": "8"
                                },
                                {
                                    "(No column name)": "4"
                                },
                                {
                                    "(No column name)": "3"
                                },
                                {
                                    "(No column name)": "9"
                                },
                                {
                                    "(No column name)": "1"
                                },
                                {
                                    "(No column name)": "2"
                                },
                                {
                                    "(No column name)": "4"
                                },
                                {
                                    "(No column name)": "7"
                                },
                                {
                                    "(No column name)": "5"
                                },
                                {
                                    "(No column name)": "3"
                                },
                                {
                                    "(No column name)": "6"
                                },
                                {
                                    "(No column name)": "4"
                                },
                                {
                                    "(No column name)": "5"
                                },
                                {
                                    "(No column name)": "5"
                                },
                                {
                                    "(No column name)": "6"
                                },
                                {
                                    "(No column name)": "4"
                                },
                                {
                                    "(No column name)": "4"
                                },
                                {
                                    "(No column name)": "4"
                                },
                                {
                                    "(No column name)": "6"
                                },
                                {
                                    "(No column name)": "6"
                                },
                                {
                                    "(No column name)": "5"
                                },
                                {
                                    "(No column name)": "5"
                                },
                                {
                                    "(No column name)": "6"
                                },
                                {
                                    "(No column name)": "5"
                                },
                                {
                                    "(No column name)": "1"
                                },
                                {
                                    "(No column name)": "4"
                                },
                                {
                                    "(No column name)": "3"
                                },
                                {
                                    "(No column name)": "4"
                                },
                                {
                                    "(No column name)": "5"
                                },
                                {
                                    "(No column name)": "3"
                                },
                                {
                                    "(No column name)": "4"
                                },
                                {
                                    "(No column name)": "5"
                                },
                                {
                                    "(No column name)": "3"
                                },
                                {
                                    "(No column name)": "3"
                                },
                                {
                                    "(No column name)": "2"
                                },
                                {
                                    "(No column name)": "3"
                                },
                                {
                                    "(No column name)": "4"
                                },
                                {
                                    "(No column name)": "4"
                                },
                                {
                                    "(No column name)": "5"
                                },
                                {
                                    "(No column name)": "5"
                                },
                                {
                                    "(No column name)": "4"
                                },
                                {
                                    "(No column name)": "0"
                                },
                                {
                                    "(No column name)": "4"
                                },
                                {
                                    "(No column name)": "1"
                                },
                                {
                                    "(No column name)": "4"
                                },
                                {
                                    "(No column name)": "5"
                                },
                                {
                                    "(No column name)": "7"
                                },
                                {
                                    "(No column name)": "3"
                                },
                                {
                                    "(No column name)": "3"
                                },
                                {
                                    "(No column name)": "2"
                                },
                                {
                                    "(No column name)": "2"
                                },
                                {
                                    "(No column name)": "2"
                                },
                                {
                                    "(No column name)": "4"
                                },
                                {
                                    "(No column name)": "3"
                                },
                                {
                                    "(No column name)": "4"
                                },
                                {
                                    "(No column name)": "2"
                                },
                                {
                                    "(No column name)": "5"
                                },
                                {
                                    "(No column name)": "3"
                                },
                                {
                                    "(No column name)": "3"
                                },
                                {
                                    "(No column name)": "3"
                                },
                                {
                                    "(No column name)": "3"
                                },
                                {
                                    "(No column name)": "5"
                                },
                                {
                                    "(No column name)": "3"
                                },
                                {
                                    "(No column name)": "2"
                                },
                                {
                                    "(No column name)": "2"
                                },
                                {
                                    "(No column name)": "4"
                                },
                                {
                                    "(No column name)": "5"
                                },
                                {
                                    "(No column name)": "6"
                                },
                                {
                                    "(No column name)": "3"
                                },
                                {
                                    "(No column name)": "4"
                                },
                                {
                                    "(No column name)": "4"
                                },
                                {
                                    "(No column name)": "3"
                                },
                                {
                                    "(No column name)": "3"
                                },
                                {
                                    "(No column name)": "2"
                                },
                                {
                                    "(No column name)": "6"
                                },
                                {
                                    "(No column name)": "6"
                                },
                                {
                                    "(No column name)": "6"
                                },
                                {
                                    "(No column name)": "5"
                                },
                                {
                                    "(No column name)": "4"
                                },
                                {
                                    "(No column name)": "5"
                                },
                                {
                                    "(No column name)": "3"
                                },
                                {
                                    "(No column name)": "5"
                                },
                                {
                                    "(No column name)": "1"
                                },
                                {
                                    "(No column name)": "5"
                                },
                                {
                                    "(No column name)": "3"
                                },
                                {
                                    "(No column name)": "5"
                                },
                                {
                                    "(No column name)": "6"
                                },
                                {
                                    "(No column name)": "3"
                                },
                                {
                                    "(No column name)": "2"
                                },
                                {
                                    "(No column name)": "6"
                                },
                                {
                                    "(No column name)": "3"
                                },
                                {
                                    "(No column name)": "2"
                                },
                                {
                                    "(No column name)": "5"
                                },
                                {
                                    "(No column name)": "4"
                                },
                                {
                                    "(No column name)": "3"
                                },
                                {
                                    "(No column name)": "3"
                                },
                                {
                                    "(No column name)": "5"
                                },
                                {
                                    "(No column name)": "2"
                                },
                                {
                                    "(No column name)": "4"
                                },
                                {
                                    "(No column name)": "4"
                                },
                                {
                                    "(No column name)": "4"
                                },
                                {
                                    "(No column name)": "4"
                                },
                                {
                                    "(No column name)": "5"
                                },
                                {
                                    "(No column name)": "5"
                                },
                                {
                                    "(No column name)": "2"
                                },
                                {
                                    "(No column name)": "3"
                                },
                                {
                                    "(No column name)": "3"
                                },
                                {
                                    "(No column name)": "4"
                                },
                                {
                                    "(No column name)": "3"
                                },
                                {
                                    "(No column name)": "7"
                                },
                                {
                                    "(No column name)": "3"
                                },
                                {
                                    "(No column name)": "4"
                                },
                                {
                                    "(No column name)": "4"
                                },
                                {
                                    "(No column name)": "4"
                                },
                                {
                                    "(No column name)": "5"
                                },
                                {
                                    "(No column name)": "3"
                                },
                                {
                                    "(No column name)": "4"
                                },
                                {
                                    "(No column name)": "4"
                                },
                                {
                                    "(No column name)": "2"
                                },
                                {
                                    "(No column name)": "3"
                                },
                                {
                                    "(No column name)": "4"
                                },
                                {
                                    "(No column name)": "3"
                                },
                                {
                                    "(No column name)": "4"
                                },
                                {
                                    "(No column name)": "3"
                                },
                                {
                                    "(No column name)": "3"
                                },
                                {
                                    "(No column name)": "9"
                                },
                                {
                                    "(No column name)": "3"
                                },
                                {
                                    "(No column name)": "2"
                                },
                                {
                                    "(No column name)": "1"
                                },
                                {
                                    "(No column name)": "4"
                                },
                                {
                                    "(No column name)": "5"
                                },
                                {
                                    "(No column name)": "6"
                                },
                                {
                                    "(No column name)": "2"
                                },
                                {
                                    "(No column name)": "4"
                                },
                                {
                                    "(No column name)": "6"
                                },
                                {
                                    "(No column name)": "2"
                                },
                                {
                                    "(No column name)": "1"
                                },
                                {
                                    "(No column name)": "4"
                                },
                                {
                                    "(No column name)": "1"
                                },
                                {
                                    "(No column name)": "5"
                                },
                                {
                                    "(No column name)": "7"
                                },
                                {
                                    "(No column name)": "5"
                                },
                                {
                                    "(No column name)": "4"
                                },
                                {
                                    "(No column name)": "4"
                                },
                                {
                                    "(No column name)": "2"
                                },
                                {
                                    "(No column name)": "5"
                                },
                                {
                                    "(No column name)": "2"
                                },
                                {
                                    "(No column name)": "5"
                                },
                                {
                                    "(No column name)": "3"
                                },
                                {
                                    "(No column name)": "2"
                                },
                                {
                                    "(No column name)": "2"
                                },
                                {
                                    "(No column name)": "2"
                                },
                                {
                                    "(No column name)": "6"
                                },
                                {
                                    "(No column name)": "2"
                                },
                                {
                                    "(No column name)": "4"
                                },
                                {
                                    "(No column name)": "4"
                                },
                                {
                                    "(No column name)": "5"
                                },
                                {
                                    "(No column name)": "12"
                                }
                            ]
                        },
                        "text/html": [
                            "<table>",
                            "<tr><th>(No column name)</th><th>(No column name)</th></tr>",
                            "<tr><td>adam1</td><td>2</td></tr>",
                            "<tr><td>adam3</td><td>2</td></tr>",
                            "<tr><td>adam4</td><td>5</td></tr>",
                            "<tr><td>agnes</td><td>4</td></tr>",
                            "<tr><td>agnes3</td><td>3</td></tr>",
                            "<tr><td>AGNESH</td><td>5</td></tr>",
                            "<tr><td>AGNESK</td><td>3</td></tr>",
                            "<tr><td>akos</td><td>7</td></tr>",
                            "<tr><td>aladar</td><td>3</td></tr>",
                            "<tr><td>alexandra</td><td>6</td></tr>",
                            "<tr><td>andi</td><td>4</td></tr>",
                            "<tr><td>andras2</td><td>3</td></tr>",
                            "<tr><td>andras21</td><td>6</td></tr>",
                            "<tr><td>andras3</td><td>5</td></tr>",
                            "<tr><td>andras4</td><td>2</td></tr>",
                            "<tr><td>andras41</td><td>5</td></tr>",
                            "<tr><td>ANDRASE</td><td>3</td></tr>",
                            "<tr><td>ANDRASN</td><td>1</td></tr>",
                            "<tr><td>andrea</td><td>4</td></tr>",
                            "<tr><td>andrea3</td><td>1</td></tr>",
                            "<tr><td>andrea4</td><td>2</td></tr>",
                            "<tr><td>ANDREAT</td><td>2</td></tr>",
                            "<tr><td>anett3</td><td>6</td></tr>",
                            "<tr><td>aniko</td><td>3</td></tr>",
                            "<tr><td>aniko4</td><td>3</td></tr>",
                            "<tr><td>ANIKOS</td><td>6</td></tr>",
                            "<tr><td>anita</td><td>4</td></tr>",
                            "<tr><td>annamaria1</td><td>1</td></tr>",
                            "<tr><td>ANNAMARIAR</td><td>5</td></tr>",
                            "<tr><td>aron2</td><td>5</td></tr>",
                            "<tr><td>ARONK</td><td>8</td></tr>",
                            "<tr><td>arpad2</td><td>4</td></tr>",
                            "<tr><td>ARPADH</td><td>3</td></tr>",
                            "<tr><td>ARPADM</td><td>5</td></tr>",
                            "<tr><td>attila</td><td>3</td></tr>",
                            "<tr><td>attila1</td><td>5</td></tr>",
                            "<tr><td>attila4</td><td>3</td></tr>",
                            "<tr><td>ATTILAO</td><td>2</td></tr>",
                            "<tr><td>balazs1</td><td>6</td></tr>",
                            "<tr><td>balazs2</td><td>8</td></tr>",
                            "<tr><td>balazs3</td><td>4</td></tr>",
                            "<tr><td>balint</td><td>3</td></tr>",
                            "<tr><td>balint1</td><td>9</td></tr>",
                            "<tr><td>balint2</td><td>1</td></tr>",
                            "<tr><td>balu</td><td>2</td></tr>",
                            "<tr><td>beata4</td><td>4</td></tr>",
                            "<tr><td>BEATRIXK</td><td>7</td></tr>",
                            "<tr><td>BEATRIXS</td><td>5</td></tr>",
                            "<tr><td>BELAF</td><td>3</td></tr>",
                            "<tr><td>bence</td><td>6</td></tr>",
                            "<tr><td>BENCEB</td><td>4</td></tr>",
                            "<tr><td>bernadett1</td><td>5</td></tr>",
                            "<tr><td>bernadett2</td><td>5</td></tr>",
                            "<tr><td>BERNADETTO</td><td>6</td></tr>",
                            "<tr><td>bertalan</td><td>4</td></tr>",
                            "<tr><td>brigitta</td><td>4</td></tr>",
                            "<tr><td>brigitta3</td><td>4</td></tr>",
                            "<tr><td>csongor3</td><td>6</td></tr>",
                            "<tr><td>dani</td><td>6</td></tr>",
                            "<tr><td>daniel</td><td>5</td></tr>",
                            "<tr><td>daniel1</td><td>5</td></tr>",
                            "<tr><td>david</td><td>6</td></tr>",
                            "<tr><td>david1</td><td>5</td></tr>",
                            "<tr><td>david4</td><td>1</td></tr>",
                            "<tr><td>debora</td><td>4</td></tr>",
                            "<tr><td>denes</td><td>3</td></tr>",
                            "<tr><td>dora3</td><td>4</td></tr>",
                            "<tr><td>edit</td><td>5</td></tr>",
                            "<tr><td>emese</td><td>3</td></tr>",
                            "<tr><td>eszter</td><td>4</td></tr>",
                            "<tr><td>eszter2</td><td>5</td></tr>",
                            "<tr><td>eszter4</td><td>3</td></tr>",
                            "<tr><td>ESZTERE</td><td>3</td></tr>",
                            "<tr><td>eva</td><td>2</td></tr>",
                            "<tr><td>eva2</td><td>3</td></tr>",
                            "<tr><td>EVAV</td><td>4</td></tr>",
                            "<tr><td>ferenc1</td><td>4</td></tr>",
                            "<tr><td>fruzsina4</td><td>5</td></tr>",
                            "<tr><td>gabor1</td><td>5</td></tr>",
                            "<tr><td>gabor4</td><td>4</td></tr>",
                            "<tr><td>GABORS</td><td>0</td></tr>",
                            "<tr><td>gabriella1</td><td>4</td></tr>",
                            "<tr><td>gabriella10</td><td>1</td></tr>",
                            "<tr><td>georgij</td><td>4</td></tr>",
                            "<tr><td>gusztav</td><td>5</td></tr>",
                            "<tr><td>GYONGYIK</td><td>7</td></tr>",
                            "<tr><td>GYORGYO</td><td>3</td></tr>",
                            "<tr><td>henrik3</td><td>3</td></tr>",
                            "<tr><td>IBOLYAA</td><td>2</td></tr>",
                            "<tr><td>ilona3</td><td>2</td></tr>",
                            "<tr><td>imre</td><td>2</td></tr>",
                            "<tr><td>imre1</td><td>4</td></tr>",
                            "<tr><td>istvan</td><td>3</td></tr>",
                            "<tr><td>istvan1</td><td>4</td></tr>",
                            "<tr><td>ISTVANV</td><td>2</td></tr>",
                            "<tr><td>janos3</td><td>5</td></tr>",
                            "<tr><td>JANOSG</td><td>3</td></tr>",
                            "<tr><td>JANOSP</td><td>3</td></tr>",
                            "<tr><td>jozsef</td><td>3</td></tr>",
                            "<tr><td>jozsef2</td><td>3</td></tr>",
                            "<tr><td>JOZSEFG</td><td>5</td></tr>",
                            "<tr><td>JUDITH</td><td>3</td></tr>",
                            "<tr><td>julia</td><td>2</td></tr>",
                            "<tr><td>julia4</td><td>2</td></tr>",
                            "<tr><td>julianna4</td><td>4</td></tr>",
                            "<tr><td>kata</td><td>5</td></tr>",
                            "<tr><td>katalin</td><td>6</td></tr>",
                            "<tr><td>katalin4</td><td>3</td></tr>",
                            "<tr><td>kati</td><td>4</td></tr>",
                            "<tr><td>katka</td><td>4</td></tr>",
                            "<tr><td>klaudia2</td><td>3</td></tr>",
                            "<tr><td>kornel4</td><td>3</td></tr>",
                            "<tr><td>kristof4</td><td>2</td></tr>",
                            "<tr><td>kriszti</td><td>6</td></tr>",
                            "<tr><td>krisztian4</td><td>6</td></tr>",
                            "<tr><td>KRISZTIANM</td><td>6</td></tr>",
                            "<tr><td>krisztina</td><td>5</td></tr>",
                            "<tr><td>krisztina1</td><td>4</td></tr>",
                            "<tr><td>KRISZTINAG</td><td>5</td></tr>",
                            "<tr><td>lajos</td><td>3</td></tr>",
                            "<tr><td>lala</td><td>5</td></tr>",
                            "<tr><td>laszlo1</td><td>1</td></tr>",
                            "<tr><td>laszlo2</td><td>5</td></tr>",
                            "<tr><td>LASZLOA</td><td>3</td></tr>",
                            "<tr><td>LASZLON</td><td>5</td></tr>",
                            "<tr><td>maria1</td><td>6</td></tr>",
                            "<tr><td>mark</td><td>3</td></tr>",
                            "<tr><td>MARKH</td><td>2</td></tr>",
                            "<tr><td>marton</td><td>6</td></tr>",
                            "<tr><td>MATEK</td><td>3</td></tr>",
                            "<tr><td>matyas2</td><td>2</td></tr>",
                            "<tr><td>MATYASS</td><td>5</td></tr>",
                            "<tr><td>MIHALYJ</td><td>4</td></tr>",
                            "<tr><td>miklos2</td><td>3</td></tr>",
                            "<tr><td>MIKLOSB</td><td>3</td></tr>",
                            "<tr><td>MONIKAM</td><td>5</td></tr>",
                            "<tr><td>NANDORF</td><td>2</td></tr>",
                            "<tr><td>nikolett3</td><td>4</td></tr>",
                            "<tr><td>nikoletta4</td><td>4</td></tr>",
                            "<tr><td>NIKOLETTAT</td><td>4</td></tr>",
                            "<tr><td>norbert</td><td>4</td></tr>",
                            "<tr><td>norbert2</td><td>5</td></tr>",
                            "<tr><td>norbert4</td><td>5</td></tr>",
                            "<tr><td>norbert5</td><td>2</td></tr>",
                            "<tr><td>pal</td><td>3</td></tr>",
                            "<tr><td>peter1</td><td>3</td></tr>",
                            "<tr><td>peter2</td><td>4</td></tr>",
                            "<tr><td>peter3</td><td>3</td></tr>",
                            "<tr><td>peter4</td><td>7</td></tr>",
                            "<tr><td>PETERB</td><td>3</td></tr>",
                            "<tr><td>polla</td><td>4</td></tr>",
                            "<tr><td>rajmond4</td><td>4</td></tr>",
                            "<tr><td>reka4</td><td>4</td></tr>",
                            "<tr><td>RENATAK</td><td>5</td></tr>",
                            "<tr><td>RENATAS</td><td>3</td></tr>",
                            "<tr><td>robert2</td><td>4</td></tr>",
                            "<tr><td>ROBERTI</td><td>4</td></tr>",
                            "<tr><td>ROBERTP</td><td>2</td></tr>",
                            "<tr><td>roland</td><td>3</td></tr>",
                            "<tr><td>roland1</td><td>4</td></tr>",
                            "<tr><td>roza2</td><td>3</td></tr>",
                            "<tr><td>sandor</td><td>4</td></tr>",
                            "<tr><td>sandor3</td><td>3</td></tr>",
                            "<tr><td>sandor4</td><td>3</td></tr>",
                            "<tr><td>sara</td><td>9</td></tr>",
                            "<tr><td>SEBASTIANF</td><td>3</td></tr>",
                            "<tr><td>sebestyen</td><td>2</td></tr>",
                            "<tr><td>szabolcs</td><td>1</td></tr>",
                            "<tr><td>SZABOLCSM</td><td>4</td></tr>",
                            "<tr><td>SZILARDS</td><td>5</td></tr>",
                            "<tr><td>szilvia1</td><td>6</td></tr>",
                            "<tr><td>tamara2</td><td>2</td></tr>",
                            "<tr><td>tamas</td><td>4</td></tr>",
                            "<tr><td>TAMASF</td><td>6</td></tr>",
                            "<tr><td>tibor</td><td>2</td></tr>",
                            "<tr><td>tibor2</td><td>1</td></tr>",
                            "<tr><td>tihamer</td><td>4</td></tr>",
                            "<tr><td>timea</td><td>1</td></tr>",
                            "<tr><td>timea2</td><td>5</td></tr>",
                            "<tr><td>tunde</td><td>7</td></tr>",
                            "<tr><td>valentin</td><td>5</td></tr>",
                            "<tr><td>veronika4</td><td>4</td></tr>",
                            "<tr><td>VIKTORIAU</td><td>4</td></tr>",
                            "<tr><td>VIKTORK</td><td>2</td></tr>",
                            "<tr><td>vivien3</td><td>5</td></tr>",
                            "<tr><td>zoltan</td><td>2</td></tr>",
                            "<tr><td>zoltan4</td><td>5</td></tr>",
                            "<tr><td>ZOLTANP</td><td>3</td></tr>",
                            "<tr><td>ZOLTANT</td><td>2</td></tr>",
                            "<tr><td>zsofi1</td><td>2</td></tr>",
                            "<tr><td>zsolt1</td><td>2</td></tr>",
                            "<tr><td>ZSOLTJ</td><td>6</td></tr>",
                            "<tr><td>zsuzsa</td><td>2</td></tr>",
                            "<tr><td>zsuzsa3</td><td>4</td></tr>",
                            "<tr><td>zsuzsanna</td><td>4</td></tr>",
                            "<tr><td>ZSUZSAV</td><td>5</td></tr>",
                            "<tr><td>Végösszeg</td><td>12</td></tr>",
                            "</table>"
                        ]
                    }
                }
            ],
            "execution_count": 3
        }
    ]
}