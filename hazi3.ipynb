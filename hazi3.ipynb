{
    "metadata": {
        "kernelspec": {
            "name": "SQL",
            "display_name": "SQL",
            "language": "sql"
        },
        "language_info": {
            "name": "sql",
            "version": ""
        }
    },
    "nbformat_minor": 2,
    "nbformat": 4,
    "cells": [
        {
            "cell_type": "code",
            "source": [
                "SELECT Egysegar\n",
                "FROM nyersanyagok"
            ],
            "metadata": {
                "azdata_cell_guid": "86441711-d749-4f76-9607-827c463c812d",
                "language": "sql"
            },
            "outputs": [
                {
                    "output_type": "display_data",
                    "data": {
                        "text/html": "(207 rows affected)"
                    },
                    "metadata": {}
                },
                {
                    "output_type": "display_data",
                    "data": {
                        "text/html": "Total execution time: 00:00:00.062"
                    },
                    "metadata": {}
                },
                {
                    "output_type": "execute_result",
                    "execution_count": 1,
                    "data": {
                        "application/vnd.dataresource+json": {
                            "schema": {
                                "fields": [
                                    {
                                        "name": "Egysegar"
                                    }
                                ]
                            },
                            "data": [
                                {
                                    "Egysegar": "5,00"
                                },
                                {
                                    "Egysegar": "5,00"
                                },
                                {
                                    "Egysegar": "400,00"
                                },
                                {
                                    "Egysegar": "200,00"
                                },
                                {
                                    "Egysegar": "200,00"
                                },
                                {
                                    "Egysegar": "300,00"
                                },
                                {
                                    "Egysegar": "100,00"
                                },
                                {
                                    "Egysegar": "40,00"
                                },
                                {
                                    "Egysegar": "10,00"
                                },
                                {
                                    "Egysegar": "100,00"
                                },
                                {
                                    "Egysegar": "1500,00"
                                },
                                {
                                    "Egysegar": "400,00"
                                },
                                {
                                    "Egysegar": "5,00"
                                },
                                {
                                    "Egysegar": "300,00"
                                },
                                {
                                    "Egysegar": "600,00"
                                },
                                {
                                    "Egysegar": "200,00"
                                },
                                {
                                    "Egysegar": "350,00"
                                },
                                {
                                    "Egysegar": "400,00"
                                },
                                {
                                    "Egysegar": "250,00"
                                },
                                {
                                    "Egysegar": "1200,00"
                                },
                                {
                                    "Egysegar": "400,00"
                                },
                                {
                                    "Egysegar": "10,00"
                                },
                                {
                                    "Egysegar": "5,00"
                                },
                                {
                                    "Egysegar": "200,00"
                                },
                                {
                                    "Egysegar": "70,00"
                                },
                                {
                                    "Egysegar": "250,00"
                                },
                                {
                                    "Egysegar": "180,00"
                                },
                                {
                                    "Egysegar": "400,00"
                                },
                                {
                                    "Egysegar": "15,00"
                                },
                                {
                                    "Egysegar": "15,00"
                                },
                                {
                                    "Egysegar": "300,00"
                                },
                                {
                                    "Egysegar": "320,00"
                                },
                                {
                                    "Egysegar": "1500,00"
                                },
                                {
                                    "Egysegar": "150,00"
                                },
                                {
                                    "Egysegar": "2000,00"
                                },
                                {
                                    "Egysegar": "150,00"
                                },
                                {
                                    "Egysegar": "1700,00"
                                },
                                {
                                    "Egysegar": "250,00"
                                },
                                {
                                    "Egysegar": "180,00"
                                },
                                {
                                    "Egysegar": "350,00"
                                },
                                {
                                    "Egysegar": "800,00"
                                },
                                {
                                    "Egysegar": "200,00"
                                },
                                {
                                    "Egysegar": "20,00"
                                },
                                {
                                    "Egysegar": "1800,00"
                                },
                                {
                                    "Egysegar": "150,00"
                                },
                                {
                                    "Egysegar": "2000,00"
                                },
                                {
                                    "Egysegar": "2010,00"
                                },
                                {
                                    "Egysegar": "1800,00"
                                },
                                {
                                    "Egysegar": "1900,00"
                                },
                                {
                                    "Egysegar": "1500,00"
                                },
                                {
                                    "Egysegar": "200,00"
                                },
                                {
                                    "Egysegar": "50,00"
                                },
                                {
                                    "Egysegar": "15,00"
                                },
                                {
                                    "Egysegar": "50,00"
                                },
                                {
                                    "Egysegar": "500,00"
                                },
                                {
                                    "Egysegar": "75,00"
                                },
                                {
                                    "Egysegar": "20,00"
                                },
                                {
                                    "Egysegar": "500,00"
                                },
                                {
                                    "Egysegar": "200,00"
                                },
                                {
                                    "Egysegar": "25,00"
                                },
                                {
                                    "Egysegar": "300,00"
                                },
                                {
                                    "Egysegar": "200,00"
                                },
                                {
                                    "Egysegar": "250,00"
                                },
                                {
                                    "Egysegar": "250,00"
                                },
                                {
                                    "Egysegar": "150,00"
                                },
                                {
                                    "Egysegar": "180,00"
                                },
                                {
                                    "Egysegar": "200,00"
                                },
                                {
                                    "Egysegar": "100,00"
                                },
                                {
                                    "Egysegar": "150,00"
                                },
                                {
                                    "Egysegar": "200,00"
                                },
                                {
                                    "Egysegar": "25,00"
                                },
                                {
                                    "Egysegar": "180,00"
                                },
                                {
                                    "Egysegar": "5,00"
                                },
                                {
                                    "Egysegar": "5,00"
                                },
                                {
                                    "Egysegar": "5,00"
                                },
                                {
                                    "Egysegar": "1000,00"
                                },
                                {
                                    "Egysegar": "400,00"
                                },
                                {
                                    "Egysegar": "350,00"
                                },
                                {
                                    "Egysegar": "700,00"
                                },
                                {
                                    "Egysegar": "200,00"
                                },
                                {
                                    "Egysegar": "200,00"
                                },
                                {
                                    "Egysegar": "0,00"
                                },
                                {
                                    "Egysegar": "0,00"
                                },
                                {
                                    "Egysegar": "0,00"
                                },
                                {
                                    "Egysegar": "NULL"
                                },
                                {
                                    "Egysegar": "NULL"
                                },
                                {
                                    "Egysegar": "NULL"
                                },
                                {
                                    "Egysegar": "NULL"
                                },
                                {
                                    "Egysegar": "NULL"
                                },
                                {
                                    "Egysegar": "NULL"
                                },
                                {
                                    "Egysegar": "NULL"
                                },
                                {
                                    "Egysegar": "NULL"
                                },
                                {
                                    "Egysegar": "NULL"
                                },
                                {
                                    "Egysegar": "NULL"
                                },
                                {
                                    "Egysegar": "NULL"
                                },
                                {
                                    "Egysegar": "NULL"
                                },
                                {
                                    "Egysegar": "NULL"
                                },
                                {
                                    "Egysegar": "NULL"
                                },
                                {
                                    "Egysegar": "NULL"
                                },
                                {
                                    "Egysegar": "NULL"
                                },
                                {
                                    "Egysegar": "NULL"
                                },
                                {
                                    "Egysegar": "NULL"
                                },
                                {
                                    "Egysegar": "NULL"
                                },
                                {
                                    "Egysegar": "NULL"
                                },
                                {
                                    "Egysegar": "NULL"
                                },
                                {
                                    "Egysegar": "NULL"
                                },
                                {
                                    "Egysegar": "NULL"
                                },
                                {
                                    "Egysegar": "NULL"
                                },
                                {
                                    "Egysegar": "NULL"
                                },
                                {
                                    "Egysegar": "NULL"
                                },
                                {
                                    "Egysegar": "NULL"
                                },
                                {
                                    "Egysegar": "NULL"
                                },
                                {
                                    "Egysegar": "NULL"
                                },
                                {
                                    "Egysegar": "NULL"
                                },
                                {
                                    "Egysegar": "NULL"
                                },
                                {
                                    "Egysegar": "NULL"
                                },
                                {
                                    "Egysegar": "NULL"
                                },
                                {
                                    "Egysegar": "NULL"
                                },
                                {
                                    "Egysegar": "NULL"
                                },
                                {
                                    "Egysegar": "NULL"
                                },
                                {
                                    "Egysegar": "NULL"
                                },
                                {
                                    "Egysegar": "NULL"
                                },
                                {
                                    "Egysegar": "NULL"
                                },
                                {
                                    "Egysegar": "NULL"
                                },
                                {
                                    "Egysegar": "NULL"
                                },
                                {
                                    "Egysegar": "NULL"
                                },
                                {
                                    "Egysegar": "NULL"
                                },
                                {
                                    "Egysegar": "NULL"
                                },
                                {
                                    "Egysegar": "NULL"
                                },
                                {
                                    "Egysegar": "NULL"
                                },
                                {
                                    "Egysegar": "NULL"
                                },
                                {
                                    "Egysegar": "NULL"
                                },
                                {
                                    "Egysegar": "NULL"
                                },
                                {
                                    "Egysegar": "NULL"
                                },
                                {
                                    "Egysegar": "NULL"
                                },
                                {
                                    "Egysegar": "NULL"
                                },
                                {
                                    "Egysegar": "NULL"
                                },
                                {
                                    "Egysegar": "NULL"
                                },
                                {
                                    "Egysegar": "NULL"
                                },
                                {
                                    "Egysegar": "NULL"
                                },
                                {
                                    "Egysegar": "NULL"
                                },
                                {
                                    "Egysegar": "NULL"
                                },
                                {
                                    "Egysegar": "NULL"
                                },
                                {
                                    "Egysegar": "NULL"
                                },
                                {
                                    "Egysegar": "NULL"
                                },
                                {
                                    "Egysegar": "NULL"
                                },
                                {
                                    "Egysegar": "NULL"
                                },
                                {
                                    "Egysegar": "NULL"
                                },
                                {
                                    "Egysegar": "NULL"
                                },
                                {
                                    "Egysegar": "NULL"
                                },
                                {
                                    "Egysegar": "NULL"
                                },
                                {
                                    "Egysegar": "NULL"
                                },
                                {
                                    "Egysegar": "NULL"
                                },
                                {
                                    "Egysegar": "NULL"
                                },
                                {
                                    "Egysegar": "NULL"
                                },
                                {
                                    "Egysegar": "NULL"
                                },
                                {
                                    "Egysegar": "NULL"
                                },
                                {
                                    "Egysegar": "NULL"
                                },
                                {
                                    "Egysegar": "NULL"
                                },
                                {
                                    "Egysegar": "NULL"
                                },
                                {
                                    "Egysegar": "NULL"
                                },
                                {
                                    "Egysegar": "NULL"
                                },
                                {
                                    "Egysegar": "NULL"
                                },
                                {
                                    "Egysegar": "NULL"
                                },
                                {
                                    "Egysegar": "NULL"
                                },
                                {
                                    "Egysegar": "NULL"
                                },
                                {
                                    "Egysegar": "NULL"
                                },
                                {
                                    "Egysegar": "NULL"
                                },
                                {
                                    "Egysegar": "NULL"
                                },
                                {
                                    "Egysegar": "NULL"
                                },
                                {
                                    "Egysegar": "NULL"
                                },
                                {
                                    "Egysegar": "NULL"
                                },
                                {
                                    "Egysegar": "NULL"
                                },
                                {
                                    "Egysegar": "NULL"
                                },
                                {
                                    "Egysegar": "NULL"
                                },
                                {
                                    "Egysegar": "NULL"
                                },
                                {
                                    "Egysegar": "NULL"
                                },
                                {
                                    "Egysegar": "NULL"
                                },
                                {
                                    "Egysegar": "NULL"
                                },
                                {
                                    "Egysegar": "NULL"
                                },
                                {
                                    "Egysegar": "NULL"
                                },
                                {
                                    "Egysegar": "NULL"
                                },
                                {
                                    "Egysegar": "NULL"
                                },
                                {
                                    "Egysegar": "NULL"
                                },
                                {
                                    "Egysegar": "NULL"
                                },
                                {
                                    "Egysegar": "NULL"
                                },
                                {
                                    "Egysegar": "NULL"
                                },
                                {
                                    "Egysegar": "NULL"
                                },
                                {
                                    "Egysegar": "NULL"
                                },
                                {
                                    "Egysegar": "NULL"
                                },
                                {
                                    "Egysegar": "NULL"
                                },
                                {
                                    "Egysegar": "NULL"
                                },
                                {
                                    "Egysegar": "NULL"
                                },
                                {
                                    "Egysegar": "NULL"
                                },
                                {
                                    "Egysegar": "NULL"
                                },
                                {
                                    "Egysegar": "NULL"
                                },
                                {
                                    "Egysegar": "NULL"
                                },
                                {
                                    "Egysegar": "NULL"
                                },
                                {
                                    "Egysegar": "NULL"
                                },
                                {
                                    "Egysegar": "NULL"
                                },
                                {
                                    "Egysegar": "NULL"
                                },
                                {
                                    "Egysegar": "NULL"
                                },
                                {
                                    "Egysegar": "NULL"
                                },
                                {
                                    "Egysegar": "NULL"
                                },
                                {
                                    "Egysegar": "NULL"
                                },
                                {
                                    "Egysegar": "NULL"
                                },
                                {
                                    "Egysegar": "NULL"
                                }
                            ]
                        },
                        "text/html": "<table><tr><th>Egysegar</th></tr><tr><td>5,00</td></tr><tr><td>5,00</td></tr><tr><td>400,00</td></tr><tr><td>200,00</td></tr><tr><td>200,00</td></tr><tr><td>300,00</td></tr><tr><td>100,00</td></tr><tr><td>40,00</td></tr><tr><td>10,00</td></tr><tr><td>100,00</td></tr><tr><td>1500,00</td></tr><tr><td>400,00</td></tr><tr><td>5,00</td></tr><tr><td>300,00</td></tr><tr><td>600,00</td></tr><tr><td>200,00</td></tr><tr><td>350,00</td></tr><tr><td>400,00</td></tr><tr><td>250,00</td></tr><tr><td>1200,00</td></tr><tr><td>400,00</td></tr><tr><td>10,00</td></tr><tr><td>5,00</td></tr><tr><td>200,00</td></tr><tr><td>70,00</td></tr><tr><td>250,00</td></tr><tr><td>180,00</td></tr><tr><td>400,00</td></tr><tr><td>15,00</td></tr><tr><td>15,00</td></tr><tr><td>300,00</td></tr><tr><td>320,00</td></tr><tr><td>1500,00</td></tr><tr><td>150,00</td></tr><tr><td>2000,00</td></tr><tr><td>150,00</td></tr><tr><td>1700,00</td></tr><tr><td>250,00</td></tr><tr><td>180,00</td></tr><tr><td>350,00</td></tr><tr><td>800,00</td></tr><tr><td>200,00</td></tr><tr><td>20,00</td></tr><tr><td>1800,00</td></tr><tr><td>150,00</td></tr><tr><td>2000,00</td></tr><tr><td>2010,00</td></tr><tr><td>1800,00</td></tr><tr><td>1900,00</td></tr><tr><td>1500,00</td></tr><tr><td>200,00</td></tr><tr><td>50,00</td></tr><tr><td>15,00</td></tr><tr><td>50,00</td></tr><tr><td>500,00</td></tr><tr><td>75,00</td></tr><tr><td>20,00</td></tr><tr><td>500,00</td></tr><tr><td>200,00</td></tr><tr><td>25,00</td></tr><tr><td>300,00</td></tr><tr><td>200,00</td></tr><tr><td>250,00</td></tr><tr><td>250,00</td></tr><tr><td>150,00</td></tr><tr><td>180,00</td></tr><tr><td>200,00</td></tr><tr><td>100,00</td></tr><tr><td>150,00</td></tr><tr><td>200,00</td></tr><tr><td>25,00</td></tr><tr><td>180,00</td></tr><tr><td>5,00</td></tr><tr><td>5,00</td></tr><tr><td>5,00</td></tr><tr><td>1000,00</td></tr><tr><td>400,00</td></tr><tr><td>350,00</td></tr><tr><td>700,00</td></tr><tr><td>200,00</td></tr><tr><td>200,00</td></tr><tr><td>0,00</td></tr><tr><td>0,00</td></tr><tr><td>0,00</td></tr><tr><td>NULL</td></tr><tr><td>NULL</td></tr><tr><td>NULL</td></tr><tr><td>NULL</td></tr><tr><td>NULL</td></tr><tr><td>NULL</td></tr><tr><td>NULL</td></tr><tr><td>NULL</td></tr><tr><td>NULL</td></tr><tr><td>NULL</td></tr><tr><td>NULL</td></tr><tr><td>NULL</td></tr><tr><td>NULL</td></tr><tr><td>NULL</td></tr><tr><td>NULL</td></tr><tr><td>NULL</td></tr><tr><td>NULL</td></tr><tr><td>NULL</td></tr><tr><td>NULL</td></tr><tr><td>NULL</td></tr><tr><td>NULL</td></tr><tr><td>NULL</td></tr><tr><td>NULL</td></tr><tr><td>NULL</td></tr><tr><td>NULL</td></tr><tr><td>NULL</td></tr><tr><td>NULL</td></tr><tr><td>NULL</td></tr><tr><td>NULL</td></tr><tr><td>NULL</td></tr><tr><td>NULL</td></tr><tr><td>NULL</td></tr><tr><td>NULL</td></tr><tr><td>NULL</td></tr><tr><td>NULL</td></tr><tr><td>NULL</td></tr><tr><td>NULL</td></tr><tr><td>NULL</td></tr><tr><td>NULL</td></tr><tr><td>NULL</td></tr><tr><td>NULL</td></tr><tr><td>NULL</td></tr><tr><td>NULL</td></tr><tr><td>NULL</td></tr><tr><td>NULL</td></tr><tr><td>NULL</td></tr><tr><td>NULL</td></tr><tr><td>NULL</td></tr><tr><td>NULL</td></tr><tr><td>NULL</td></tr><tr><td>NULL</td></tr><tr><td>NULL</td></tr><tr><td>NULL</td></tr><tr><td>NULL</td></tr><tr><td>NULL</td></tr><tr><td>NULL</td></tr><tr><td>NULL</td></tr><tr><td>NULL</td></tr><tr><td>NULL</td></tr><tr><td>NULL</td></tr><tr><td>NULL</td></tr><tr><td>NULL</td></tr><tr><td>NULL</td></tr><tr><td>NULL</td></tr><tr><td>NULL</td></tr><tr><td>NULL</td></tr><tr><td>NULL</td></tr><tr><td>NULL</td></tr><tr><td>NULL</td></tr><tr><td>NULL</td></tr><tr><td>NULL</td></tr><tr><td>NULL</td></tr><tr><td>NULL</td></tr><tr><td>NULL</td></tr><tr><td>NULL</td></tr><tr><td>NULL</td></tr><tr><td>NULL</td></tr><tr><td>NULL</td></tr><tr><td>NULL</td></tr><tr><td>NULL</td></tr><tr><td>NULL</td></tr><tr><td>NULL</td></tr><tr><td>NULL</td></tr><tr><td>NULL</td></tr><tr><td>NULL</td></tr><tr><td>NULL</td></tr><tr><td>NULL</td></tr><tr><td>NULL</td></tr><tr><td>NULL</td></tr><tr><td>NULL</td></tr><tr><td>NULL</td></tr><tr><td>NULL</td></tr><tr><td>NULL</td></tr><tr><td>NULL</td></tr><tr><td>NULL</td></tr><tr><td>NULL</td></tr><tr><td>NULL</td></tr><tr><td>NULL</td></tr><tr><td>NULL</td></tr><tr><td>NULL</td></tr><tr><td>NULL</td></tr><tr><td>NULL</td></tr><tr><td>NULL</td></tr><tr><td>NULL</td></tr><tr><td>NULL</td></tr><tr><td>NULL</td></tr><tr><td>NULL</td></tr><tr><td>NULL</td></tr><tr><td>NULL</td></tr><tr><td>NULL</td></tr><tr><td>NULL</td></tr><tr><td>NULL</td></tr><tr><td>NULL</td></tr><tr><td>NULL</td></tr><tr><td>NULL</td></tr><tr><td>NULL</td></tr><tr><td>NULL</td></tr><tr><td>NULL</td></tr><tr><td>NULL</td></tr><tr><td>NULL</td></tr><tr><td>NULL</td></tr><tr><td>NULL</td></tr><tr><td>NULL</td></tr></table>"
                    },
                    "metadata": {}
                }
            ],
            "execution_count": 1
        }
    ]
}